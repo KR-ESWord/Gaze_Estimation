{
 "cells": [
  {
   "cell_type": "markdown",
   "metadata": {},
   "source": [
    "# Import Libraries"
   ]
  },
  {
   "cell_type": "code",
   "execution_count": 15,
   "metadata": {},
   "outputs": [],
   "source": [
    "import os\n",
    "import pandas as pd\n",
    "import numpy as np\n",
    "import cv2\n",
    "import random\n",
    "random.seed(43)\n",
    "import warnings\n",
    "warnings.filterwarnings(\"ignore\")\n",
    "\n",
    "from tqdm.auto import tqdm\n",
    "from glob import glob\n",
    "from scipy.io import loadmat"
   ]
  },
  {
   "cell_type": "markdown",
   "metadata": {},
   "source": [
    "# Data Path"
   ]
  },
  {
   "cell_type": "code",
   "execution_count": 2,
   "metadata": {},
   "outputs": [
    {
     "name": "stdout",
     "output_type": "stream",
     "text": [
      "Find 521 Data\n"
     ]
    }
   ],
   "source": [
    "data_path = \"/Volumes/T7/DKU/GazeEstimation/dataset/MPIIGaze/Data/Normalized\"\n",
    "mat_path = sorted(glob(os.path.join(data_path,\"*\",\"*.mat\"))) # p1*으로 수집한 데이터 경로 정의\n",
    "print(f\"Find {len(mat_path)} Data\") # 전체 mat 파일 수 출력"
   ]
  },
  {
   "cell_type": "code",
   "execution_count": 19,
   "metadata": {},
   "outputs": [],
   "source": [
    "# https://www.mpi-inf.mpg.de/fileadmin/_processed_/1/4/csm_MPIIGaze_filestruture_3caf5d24b3.png"
   ]
  },
  {
   "cell_type": "markdown",
   "metadata": {},
   "source": [
    "## Mat to Dataframe"
   ]
  },
  {
   "cell_type": "code",
   "execution_count": 5,
   "metadata": {},
   "outputs": [],
   "source": [
    "def convert_pose(vector: np.ndarray) -> np.ndarray:\n",
    "    rot = cv2.Rodrigues(np.array(vector).astype(np.float32))[0]\n",
    "    vec = rot[:, 2]\n",
    "    pitch = np.arcsin(vec[1])\n",
    "    yaw = np.arctan2(vec[0], vec[2])\n",
    "    return np.array([pitch, yaw]).astype(np.float32)\n",
    "\n",
    "\n",
    "def convert_gaze(vector: np.ndarray) -> np.ndarray:\n",
    "    x, y, z = vector\n",
    "    pitch = np.arcsin(-y)\n",
    "    yaw = np.arctan2(-x, -z)\n",
    "    return np.array([pitch, yaw]).astype(np.float32)"
   ]
  },
  {
   "cell_type": "code",
   "execution_count": 13,
   "metadata": {},
   "outputs": [
    {
     "data": {
      "application/vnd.jupyter.widget-view+json": {
       "model_id": "338822f0038d4ba6a493f5e08cb37738",
       "version_major": 2,
       "version_minor": 0
      },
      "text/plain": [
       "  0%|          | 0/521 [00:00<?, ?it/s]"
      ]
     },
     "metadata": {},
     "output_type": "display_data"
    }
   ],
   "source": [
    "eye_loc_list = [\"right\", \"left\"] # 눈 위치 정의\n",
    "\n",
    "# mat 파일 1개씩 작업 수행\n",
    "datas = []\n",
    "for idx in tqdm(range(len(mat_path))):\n",
    "    cur_mat_path = mat_path[idx].replace(\"\\\\\",\"/\")\n",
    "    par_id = cur_mat_path.split(\"/\")[-2] # 참가자 id\n",
    "    day_id = cur_mat_path.split(\"/\")[-1].split(\".\")[0] # 수집 일자\n",
    "    \n",
    "    # load mat\n",
    "    mat_data = loadmat(cur_mat_path, squeeze_me=True, struct_as_record=True)['data']\n",
    "    # 눈 위치별 데이터 추출\n",
    "    for loc in eye_loc_list:\n",
    "        eye_loc_data = mat_data[loc].tolist()\n",
    "        \n",
    "        # 이미지 데이터\n",
    "        image_data = eye_loc_data[\"image\"].tolist()\n",
    "        if len(image_data.shape) < 3:\n",
    "            image_data = image_data[np.newaxis,:]\n",
    "        \n",
    "        # Head Pose 데이터\n",
    "        pose_data = eye_loc_data[\"pose\"].tolist()\n",
    "        if len(pose_data.shape) < 2:\n",
    "            pose_data = pose_data[np.newaxis,:]\n",
    "        \n",
    "        # Gaze 데이터\n",
    "        gaze_data = eye_loc_data[\"gaze\"].tolist()\n",
    "        if len(gaze_data.shape) < 2:\n",
    "            gaze_data = gaze_data[np.newaxis,:]\n",
    "        \n",
    "        \n",
    "        for i in range(len(image_data)):\n",
    "            if eye_loc_list == \"left\":\n",
    "                image = image_data[i]\n",
    "                pose = convert_pose(pose_data[i])\n",
    "                gaze = convert_gaze(gaze_data[i])\n",
    "            else:\n",
    "                image = image_data[i][:, ::-1]\n",
    "                pose = convert_pose(pose_data[i]) * np.array([1, -1])\n",
    "                gaze = convert_gaze(gaze_data[i]) * np.array([1, -1])\n",
    "            \n",
    "            data_list = [par_id, day_id, loc, image.ravel(), pose[0], pose[1], gaze[0], gaze[1]]\n",
    "            datas.append(data_list)\n",
    "\n",
    "# 리스트에 담아두었던 정보들을 DataFrame으로 생성\n",
    "data_df = pd.DataFrame(columns=[\"participant_id\",\"day\",\"eye_location\",\"image\",\"head_pitch\",\"head_yaw\",\"gaze_pitch\",\"gaze_yaw\"], data=datas)\n",
    "data_df.head(3)\n",
    "data_df = data_df.sort_values(by=['participant_id', 'day']).reset_index(drop=True)"
   ]
  },
  {
   "cell_type": "markdown",
   "metadata": {},
   "source": [
    "# Save Total Data"
   ]
  },
  {
   "cell_type": "code",
   "execution_count": 14,
   "metadata": {},
   "outputs": [],
   "source": [
    "save_path = \"./mpii_dataset\"\n",
    "if os.path.isdir(save_path) == False:\n",
    "    os.makedirs(save_path)\n",
    "save_file = os.path.join(save_path, \"mpii_dataset.parquet\")\n",
    "data_df.to_parquet(save_file, engine='pyarrow', index=False)"
   ]
  },
  {
   "cell_type": "markdown",
   "metadata": {},
   "source": [
    "# Extract Sampling Data"
   ]
  },
  {
   "cell_type": "code",
   "execution_count": 16,
   "metadata": {},
   "outputs": [],
   "source": [
    "par_list = sorted(list(set(list(data_df['participant_id'].values))))\n",
    "right_df = pd.DataFrame()\n",
    "left_df = pd.DataFrame()\n",
    "\n",
    "for i in range(len(par_list)):\n",
    "    par_df = data_df[data_df[\"participant_id\"] == par_list[i]]\n",
    "    par_right_df = par_df[par_df[\"eye_location\"] == \"right\"]\n",
    "    par_left_df = par_df[par_df[\"eye_location\"] == \"left\"]\n",
    "    \n",
    "    par_right_idx_list = list(par_right_df.index)\n",
    "    par_left_idx_list = list(par_left_df.index)\n",
    "    \n",
    "    while True:\n",
    "        if len(par_right_idx_list) < 1500:\n",
    "            par_right_idx_list.extend(par_right_idx_list)\n",
    "        else:\n",
    "            break\n",
    "    while True:\n",
    "        if len(par_left_idx_list) < 1500:\n",
    "            par_left_idx_list.extend(par_left_idx_list)\n",
    "        else:\n",
    "            break\n",
    "    \n",
    "    sample_right_idx_list = random.sample(par_right_idx_list, 1500)\n",
    "    sample_left_idx_list = random.sample(par_left_idx_list, 1500)\n",
    "    \n",
    "    sample_right_df = par_right_df.loc[sample_right_idx_list]  # 수정: iloc 대신 loc를 사용해야 함\n",
    "    sample_left_df = par_left_df.loc[sample_left_idx_list]  # 수정: iloc 대신 loc를 사용해야 함\n",
    "    \n",
    "    right_df = pd.concat([right_df, sample_right_df])\n",
    "    left_df = pd.concat([left_df, sample_left_df])\n",
    "\n",
    "sampling_dataset = pd.concat([right_df, left_df])\n",
    "sampling_dataset = sampling_dataset.sort_values(by=['participant_id', 'day']).reset_index(drop=True)"
   ]
  },
  {
   "cell_type": "code",
   "execution_count": 18,
   "metadata": {},
   "outputs": [
    {
     "data": {
      "text/html": [
       "<div>\n",
       "<style scoped>\n",
       "    .dataframe tbody tr th:only-of-type {\n",
       "        vertical-align: middle;\n",
       "    }\n",
       "\n",
       "    .dataframe tbody tr th {\n",
       "        vertical-align: top;\n",
       "    }\n",
       "\n",
       "    .dataframe thead th {\n",
       "        text-align: right;\n",
       "    }\n",
       "</style>\n",
       "<table border=\"1\" class=\"dataframe\">\n",
       "  <thead>\n",
       "    <tr style=\"text-align: right;\">\n",
       "      <th></th>\n",
       "      <th>participant_id</th>\n",
       "      <th>day</th>\n",
       "      <th>eye_location</th>\n",
       "      <th>image</th>\n",
       "      <th>head_pitch</th>\n",
       "      <th>head_yaw</th>\n",
       "      <th>gaze_pitch</th>\n",
       "      <th>gaze_yaw</th>\n",
       "    </tr>\n",
       "  </thead>\n",
       "  <tbody>\n",
       "    <tr>\n",
       "      <th>44997</th>\n",
       "      <td>p14</td>\n",
       "      <td>day07</td>\n",
       "      <td>left</td>\n",
       "      <td>[233, 227, 222, 219, 215, 215, 203, 194, 182, ...</td>\n",
       "      <td>0.036259</td>\n",
       "      <td>-0.260125</td>\n",
       "      <td>-0.034857</td>\n",
       "      <td>-0.155305</td>\n",
       "    </tr>\n",
       "    <tr>\n",
       "      <th>44998</th>\n",
       "      <td>p14</td>\n",
       "      <td>day07</td>\n",
       "      <td>left</td>\n",
       "      <td>[151, 144, 109, 104, 115, 109, 104, 99, 109, 1...</td>\n",
       "      <td>0.095564</td>\n",
       "      <td>-0.121666</td>\n",
       "      <td>-0.255056</td>\n",
       "      <td>-0.073477</td>\n",
       "    </tr>\n",
       "    <tr>\n",
       "      <th>44999</th>\n",
       "      <td>p14</td>\n",
       "      <td>day07</td>\n",
       "      <td>left</td>\n",
       "      <td>[147, 155, 143, 128, 120, 114, 106, 102, 84, 8...</td>\n",
       "      <td>0.078855</td>\n",
       "      <td>-0.185464</td>\n",
       "      <td>-0.098753</td>\n",
       "      <td>-0.105999</td>\n",
       "    </tr>\n",
       "  </tbody>\n",
       "</table>\n",
       "</div>"
      ],
      "text/plain": [
       "      participant_id    day eye_location  \\\n",
       "44997            p14  day07         left   \n",
       "44998            p14  day07         left   \n",
       "44999            p14  day07         left   \n",
       "\n",
       "                                                   image  head_pitch  \\\n",
       "44997  [233, 227, 222, 219, 215, 215, 203, 194, 182, ...    0.036259   \n",
       "44998  [151, 144, 109, 104, 115, 109, 104, 99, 109, 1...    0.095564   \n",
       "44999  [147, 155, 143, 128, 120, 114, 106, 102, 84, 8...    0.078855   \n",
       "\n",
       "       head_yaw  gaze_pitch  gaze_yaw  \n",
       "44997 -0.260125   -0.034857 -0.155305  \n",
       "44998 -0.121666   -0.255056 -0.073477  \n",
       "44999 -0.185464   -0.098753 -0.105999  "
      ]
     },
     "execution_count": 18,
     "metadata": {},
     "output_type": "execute_result"
    }
   ],
   "source": [
    "sampling_dataset.tail(3)"
   ]
  },
  {
   "cell_type": "code",
   "execution_count": 17,
   "metadata": {},
   "outputs": [],
   "source": [
    "save_path = \"./mpii_dataset\"\n",
    "if os.path.isdir(save_path) == False:\n",
    "    os.makedirs(save_path)\n",
    "save_file = os.path.join(save_path, \"sampled_mpii_dataset.parquet\")\n",
    "sampling_dataset.to_parquet(save_file, engine='pyarrow', index=False)"
   ]
  },
  {
   "cell_type": "code",
   "execution_count": null,
   "metadata": {},
   "outputs": [],
   "source": []
  }
 ],
 "metadata": {
  "kernelspec": {
   "display_name": "Python 3",
   "language": "python",
   "name": "python3"
  },
  "language_info": {
   "codemirror_mode": {
    "name": "ipython",
    "version": 3
   },
   "file_extension": ".py",
   "mimetype": "text/x-python",
   "name": "python",
   "nbconvert_exporter": "python",
   "pygments_lexer": "ipython3",
   "version": "3.11.2"
  }
 },
 "nbformat": 4,
 "nbformat_minor": 2
}
